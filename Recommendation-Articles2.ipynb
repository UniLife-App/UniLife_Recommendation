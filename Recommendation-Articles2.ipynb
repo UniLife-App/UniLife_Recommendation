{
 "cells": [
  {
   "cell_type": "code",
   "execution_count": 1,
   "metadata": {},
   "outputs": [],
   "source": [
    "import numpy as np\n",
    "import pandas as pd\n",
    "from collections import defaultdict\n",
    "from sklearn.metrics.pairwise import paired_distances,cosine_similarity"
   ]
  },
  {
   "cell_type": "code",
   "execution_count": 2,
   "metadata": {},
   "outputs": [],
   "source": [
    "articles = pd.read_csv(r\"D:\\JupyterNotebook\\Roommate\\文章標籤興趣程度研究計畫回應\\Article_test1.csv\")\n",
    "articles.drop(columns=\"genres\",inplace=True)\n",
    "df = pd.read_csv(r\"D:\\JupyterNotebook\\Roommate\\文章標籤興趣程度研究計畫回應\\Article_Rating_test1.csv\")\n",
    "df = pd.merge(df, articles, on='ArticleId')"
   ]
  },
  {
   "cell_type": "code",
   "execution_count": 3,
   "metadata": {},
   "outputs": [],
   "source": [
    "def find_common_article(user1,user2):\n",
    "    \"\"\"找尋兩個uesr共同觀看過文章\"\"\"\n",
    "    s1 = set((df.loc[df[\"userId\"]==user1,\"ArticleId\"].values))\n",
    "    s2 = set((df.loc[df[\"userId\"]==user2,\"ArticleId\"].values))\n",
    "    return s1.intersection(s2)"
   ]
  },
  {
   "cell_type": "code",
   "execution_count": 4,
   "metadata": {},
   "outputs": [],
   "source": [
    "def cosine_similarity(vec1, vec2):\n",
    "    \"\"\"\n",
    "    計算兩個向量之間的餘弦相似性\n",
    "    :param vec1: 向量 a \n",
    "    :param vec2: 向量 b\n",
    "    :return: sim\n",
    "    \"\"\"\n",
    "    vec1 = np.mat(vec1)\n",
    "    vec2 = np.mat(vec2)\n",
    "    num = float(vec1 * vec2.T)\n",
    "    denom = np.linalg.norm(vec1) * np.linalg.norm(vec2)\n",
    "    cos = num / denom\n",
    "    sim = 0.5 + 0.5 * cos\n",
    "    return sim"
   ]
  },
  {
   "cell_type": "code",
   "execution_count": 5,
   "metadata": {},
   "outputs": [],
   "source": [
    "def cal_user_similarity_with_article_rating(user1,user2,Article_id):\n",
    "    \"\"\"計算兩個user對於特定文章評分的相似度\"\"\"\n",
    "    u1 = df[df[\"userId\"]==user1]\n",
    "    u2 = df[df[\"userId\"]==user2]\n",
    "    vec1 = u1[u1.ArticleId.isin(Article_id)].sort_values(by=\"ArticleId\")[\"Rating\"].values\n",
    "    vec2 = u2[u2.ArticleId.isin(Article_id)].sort_values(by=\"ArticleId\")[\"Rating\"].values\n",
    "    return cosine_similarity(vec1, vec2)"
   ]
  },
  {
   "cell_type": "code",
   "execution_count": 23,
   "metadata": {},
   "outputs": [],
   "source": [
    "def recommend(user,num):\n",
    "    #find similarity between user and other uesr.\n",
    "    user_similarity = [] \n",
    "    for other_user in df.userId.unique():\n",
    "        if other_user == user:\n",
    "            continue\n",
    "        #print (\"other user :\",other_user)\n",
    "        common_articles = find_common_article(user,other_user)\n",
    "        sim = cal_user_similarity_with_article_rating(user,other_user,common_articles)\n",
    "        user_similarity.append([other_user,sim])\n",
    "    \n",
    "    #find top 10 similar user  \n",
    "    user_similarity = np.array(user_similarity)\n",
    "    sorted_index = np.argsort(user_similarity, axis=0)[:,1][::-1][:10]  #[:,1] 全部的sim    ([::-1] 逆序输出,连续输出)\n",
    "    top10_similar_user = user_similarity[:,0][sorted_index]    #[:,0] 全部的user\n",
    "    \n",
    "    #find the articles the user haven't seen\n",
    "    seen_articles = df.loc[df[\"userId\"]==user,\"ArticleId\"].values\n",
    "    not_seen_articles = defaultdict(list) \n",
    "    for similar_user in top10_similar_user:\n",
    "        articles = df.loc[df.userId==similar_user,[\"ArticleId\",\"Rating\"]].values.tolist()\n",
    "        if isinstance(articles[0], list):    #isinstance() 函数来判断一个对象是否是一个已知的类型，类似 type()\n",
    "            for a in articles:\n",
    "                if a[0] in seen_articles:\n",
    "                    continue\n",
    "                not_seen_articles[a[0]].append(a[1]) #{articleID : [rating, rating]}\n",
    "                \n",
    "        elif articles[0] not in seen_articles:\n",
    "            print(\"here\", articles[0], articles[1])\n",
    "            not_seen_articles[articles[0]].append(articles[1])\n",
    "                \n",
    "    #average same movie rating\n",
    "    for a in not_seen_articles:\n",
    "        not_seen_articles[a] = np.mean(not_seen_articles[a])\n",
    "    \n",
    "    #get top 10 ratings by sorting it \n",
    "    #not_seen_articles.items() = [(articleID, [meanRating]), (articleID, [meanRating])]\n",
    "    top10_rating = sorted(not_seen_articles.items(), key=lambda x: x[1], reverse=True)   # Key = meanRating \n",
    "\n",
    "    return [article for article,rating in top10_rating][:num]\n",
    "\n"
   ]
  },
  {
   "cell_type": "code",
   "execution_count": 24,
   "metadata": {},
   "outputs": [
    {
     "name": "stderr",
     "output_type": "stream",
     "text": [
      "C:\\ProgramData\\Anaconda3\\lib\\site-packages\\ipykernel_launcher.py:12: RuntimeWarning: invalid value encountered in double_scalars\n",
      "  if sys.path[0] == '':\n"
     ]
    },
    {
     "name": "stdout",
     "output_type": "stream",
     "text": [
      "[(215, 7.0), (70, 7.0), (111, 7.0), (31, 7.0), (196, 7.0), (49, 7.0), (23, 7.0), (223, 7.0), (92, 6.0), (42, 6.0), (101, 6.0), (106, 6.0), (16, 6.0), (45, 6.0), (27, 6.0), (73, 6.0), (203, 6.0), (96, 6.0), (44, 5.5), (138, 5.5), (140, 5.0), (63, 5.0), (47, 5.0), (146, 5.0), (115, 5.0), (169, 5.0), (149, 5.0), (15, 5.0), (125, 5.0), (105, 5.0), (129, 5.0), (144, 4.5), (24, 4.5), (220, 4.5), (99, 4.5), (14, 4.0), (222, 4.0), (39, 4.0), (4, 4.0), (180, 3.5), (71, 3.0), (175, 3.0), (124, 3.0), (157, 3.0), (53, 3.0), (121, 3.0), (110, 2.5), (75, 2.0), (89, 2.0), (216, 2.0), (84, 2.0), (204, 2.0), (120, 2.0), (93, 2.0), (148, 2.0), (128, 1.0), (87, 1.0)]\n"
     ]
    },
    {
     "data": {
      "text/plain": [
       "[215, 70, 111, 31, 196]"
      ]
     },
     "execution_count": 24,
     "metadata": {},
     "output_type": "execute_result"
    }
   ],
   "source": [
    "top10_article = recommend(1,5)\n",
    "top10_article "
   ]
  },
  {
   "cell_type": "code",
   "execution_count": 13,
   "metadata": {},
   "outputs": [
    {
     "name": "stderr",
     "output_type": "stream",
     "text": [
      "C:\\ProgramData\\Anaconda3\\lib\\site-packages\\ipykernel_launcher.py:12: RuntimeWarning: invalid value encountered in double_scalars\n",
      "  if sys.path[0] == '':\n"
     ]
    }
   ],
   "source": [
    "user_similarity = [] \n",
    "for other_user in df.userId.unique():\n",
    "        if other_user == 1:\n",
    "            continue\n",
    "        #print (\"other user :\",other_user)\n",
    "        common_articles = find_common_article(1,other_user)\n",
    "        sim = cal_user_similarity_with_article_rating(1,other_user,common_articles)\n",
    "        user_similarity.append([other_user,sim])\n",
    "user_similarity = np.array(user_similarity)"
   ]
  },
  {
   "cell_type": "code",
   "execution_count": 14,
   "metadata": {},
   "outputs": [],
   "source": [
    "user_similarity = np.array(user_similarity)\n",
    "sorted_index = np.argsort(user_similarity, axis=0)[:,1][::-1][:10]\n",
    "top10_similar_user = user_similarity[:,0][sorted_index]\n",
    "seen_articles = df.loc[df[\"userId\"]==1,\"ArticleId\"].values\n",
    "not_seen_articles = defaultdict(list) \n",
    "for similar_user in top10_similar_user:\n",
    "    articles = df.loc[df.userId==similar_user,[\"ArticleId\",\"Rating\"]].values.tolist()\n",
    "    if isinstance(articles[0], list):    #isinstance() 函数来判断一个对象是否是一个已知的类型，类似 type()\n",
    "        for a in articles:\n",
    "            if a[0] in seen_articles:\n",
    "                continue\n",
    "            not_seen_articles[a[0]].append(a[1]) #{articleID : rating}\n",
    "    elif articles[0] not in seen_articles:\n",
    "        print(\"here\", articles[0], articles[1])\n",
    "        not_seen_articles[articles[0]].append(articles[1])"
   ]
  },
  {
   "cell_type": "code",
   "execution_count": 21,
   "metadata": {},
   "outputs": [],
   "source": [
    "not_seen_articles[101] = np.mean(not_seen_articles[101])"
   ]
  },
  {
   "cell_type": "code",
   "execution_count": 32,
   "metadata": {},
   "outputs": [
    {
     "data": {
      "text/plain": [
       "dict_items([(140, [5]), (92, [6]), (75, [2]), (89, [2]), (42, [7, 5]), (101, 6.0), (215, [7]), (63, [5]), (44, [4, 7]), (144, [5, 4]), (106, [6]), (70, [7]), (47, [5]), (16, [6]), (45, [6]), (24, [3, 6]), (71, [3]), (146, [5]), (216, [2]), (115, [5]), (175, [3]), (110, [4, 1]), (138, [4, 7]), (124, [3, 3]), (27, [6]), (14, [5, 3, 4]), (180, [2, 5]), (111, [7]), (84, [2]), (169, [5]), (128, [1]), (204, [2]), (73, [6]), (220, [5, 4]), (87, [1]), (149, [5]), (157, [3]), (222, [4]), (203, [6]), (39, [4]), (31, [7]), (196, [7]), (49, [7]), (99, [7, 2]), (23, [7]), (223, [7]), (4, [4]), (120, [2]), (15, [5]), (53, [3]), (125, [5]), (93, [2]), (105, [5]), (148, [2]), (96, [6]), (121, [3]), (129, [5]), (1, [])])"
      ]
     },
     "execution_count": 32,
     "metadata": {},
     "output_type": "execute_result"
    }
   ],
   "source": [
    "not_seen_articles.items()"
   ]
  },
  {
   "cell_type": "code",
   "execution_count": null,
   "metadata": {},
   "outputs": [],
   "source": [
    "0"
   ]
  }
 ],
 "metadata": {
  "kernelspec": {
   "display_name": "Python 3",
   "language": "python",
   "name": "python3"
  },
  "language_info": {
   "codemirror_mode": {
    "name": "ipython",
    "version": 3
   },
   "file_extension": ".py",
   "mimetype": "text/x-python",
   "name": "python",
   "nbconvert_exporter": "python",
   "pygments_lexer": "ipython3",
   "version": "3.7.4"
  }
 },
 "nbformat": 4,
 "nbformat_minor": 2
}
