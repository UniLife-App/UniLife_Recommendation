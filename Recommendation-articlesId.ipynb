{
 "cells": [
  {
   "cell_type": "code",
   "execution_count": 1,
   "metadata": {},
   "outputs": [],
   "source": [
    "import numpy as np\n",
    "import pandas as pd\n",
    "from collections import defaultdict\n",
    "from sklearn.metrics.pairwise import paired_distances,cosine_similarity"
   ]
  },
  {
   "cell_type": "code",
   "execution_count": 3,
   "metadata": {},
   "outputs": [],
   "source": [
    "articles = pd.read_csv(r\"Article_test1.csv\")\n",
    "articles.drop(columns=\"genres\",inplace=True)\n",
    "df = pd.read_csv(r\"Article_Rating_test1.csv\")\n",
    "df = pd.merge(df, articles, on='ArticleId')"
   ]
  },
  {
   "cell_type": "code",
   "execution_count": 4,
   "metadata": {},
   "outputs": [],
   "source": [
    "def find_common_article(user1,user2):\n",
    "    \"\"\"找尋兩個uesr共同觀看過文章\"\"\"\n",
    "    s1 = set((df.loc[df[\"userId\"]==user1,\"ArticleId\"].values))\n",
    "    s2 = set((df.loc[df[\"userId\"]==user2,\"ArticleId\"].values))\n",
    "    return s1.intersection(s2)"
   ]
  },
  {
   "cell_type": "code",
   "execution_count": 5,
   "metadata": {},
   "outputs": [],
   "source": [
    "def cosine_similarity(vec1, vec2):\n",
    "    \"\"\"\n",
    "    計算兩個向量之間的餘弦相似性\n",
    "    :param vec1: 向量 a \n",
    "    :param vec2: 向量 b\n",
    "    :return: sim\n",
    "    \"\"\"\n",
    "    vec1 = np.mat(vec1)\n",
    "    vec2 = np.mat(vec2)\n",
    "    num = float(vec1 * vec2.T)\n",
    "    denom = np.linalg.norm(vec1) * np.linalg.norm(vec2)\n",
    "    cos = num / denom\n",
    "    sim = 0.5 + 0.5 * cos\n",
    "    return sim"
   ]
  },
  {
   "cell_type": "code",
   "execution_count": 6,
   "metadata": {},
   "outputs": [],
   "source": [
    "def cal_user_similarity_with_article_rating(user1,user2,Article_id):\n",
    "    \"\"\"計算兩個user對於特定文章評分的相似度\"\"\"\n",
    "    u1 = df[df[\"userId\"]==user1]\n",
    "    u2 = df[df[\"userId\"]==user2]\n",
    "    vec1 = u1[u1.ArticleId.isin(Article_id)].sort_values(by=\"ArticleId\")[\"Rating\"].values\n",
    "    vec2 = u2[u2.ArticleId.isin(Article_id)].sort_values(by=\"ArticleId\")[\"Rating\"].values\n",
    "    return cosine_similarity(vec1, vec2)"
   ]
  },
  {
   "cell_type": "code",
   "execution_count": 7,
   "metadata": {},
   "outputs": [],
   "source": [
    "def recommend(user,num):\n",
    "    #find similarity between user and other uesr.\n",
    "    user_similarity = [] \n",
    "    for other_user in df.userId.unique():\n",
    "        if other_user == user:\n",
    "            continue\n",
    "        #print (\"other user :\",other_user)\n",
    "        common_articles = find_common_article(user,other_user)\n",
    "        sim = cal_user_similarity_with_article_rating(user,other_user,common_articles)\n",
    "        user_similarity.append([other_user,sim])\n",
    "    \n",
    "    #find top 10 similar user  \n",
    "    user_similarity = np.array(user_similarity)\n",
    "    sorted_index = np.argsort(user_similarity, axis=0)[:,1][::-1][:10] \n",
    "    top10_similar_user = user_similarity[:,0][sorted_index]   \n",
    "    \n",
    "    #find the articles the user haven't seen\n",
    "    seen_articles = df.loc[df[\"userId\"]==user,\"ArticleId\"].values\n",
    "    not_seen_articles = defaultdict(list) \n",
    "    for similar_user in top10_similar_user:\n",
    "        articles = df.loc[df.userId==similar_user,[\"ArticleId\",\"Rating\"]].values.tolist()\n",
    "        if isinstance(articles[0], list):   \n",
    "            for a in articles:\n",
    "                if a[0] in seen_articles:\n",
    "                    continue\n",
    "                not_seen_articles[a[0]].append(a[1])\n",
    "                \n",
    "        elif articles[0] not in seen_articles:\n",
    "            print(\"here\", articles[0], articles[1])\n",
    "            not_seen_articles[articles[0]].append(articles[1])\n",
    "                \n",
    "    #average same movie rating\n",
    "    for a in not_seen_articles:\n",
    "        not_seen_articles[a] = np.mean(not_seen_articles[a])\n",
    "    \n",
    "    #get top 10 ratings by sorting it \n",
    "    #not_seen_articles.items() = [(articleID, [meanRating]), (articleID, [meanRating])]\n",
    "    top10_rating = sorted(not_seen_articles.items(), key=lambda x: x[1], reverse=True)   \n",
    "\n",
    "    return [article for article,rating in top10_rating][:num]\n",
    "\n"
   ]
  },
  {
   "cell_type": "code",
   "execution_count": 8,
   "metadata": {},
   "outputs": [
    {
     "name": "stderr",
     "output_type": "stream",
     "text": [
      "C:\\ProgramData\\Anaconda3\\lib\\site-packages\\ipykernel_launcher.py:12: RuntimeWarning: invalid value encountered in double_scalars\n",
      "  if sys.path[0] == '':\n"
     ]
    },
    {
     "data": {
      "text/plain": [
       "[215, 70, 111, 31, 196]"
      ]
     },
     "execution_count": 8,
     "metadata": {},
     "output_type": "execute_result"
    }
   ],
   "source": [
    "top10_article = recommend(1,5)\n",
    "top10_article "
   ]
  },
  {
   "cell_type": "code",
   "execution_count": null,
   "metadata": {},
   "outputs": [],
   "source": []
  }
 ],
 "metadata": {
  "kernelspec": {
   "display_name": "Python 3",
   "language": "python",
   "name": "python3"
  },
  "language_info": {
   "codemirror_mode": {
    "name": "ipython",
    "version": 3
   },
   "file_extension": ".py",
   "mimetype": "text/x-python",
   "name": "python",
   "nbconvert_exporter": "python",
   "pygments_lexer": "ipython3",
   "version": "3.7.4"
  }
 },
 "nbformat": 4,
 "nbformat_minor": 2
}
